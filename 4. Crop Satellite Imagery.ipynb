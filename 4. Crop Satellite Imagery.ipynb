{
 "cells": [
  {
   "cell_type": "code",
   "execution_count": null,
   "id": "0707fcd5-04ac-42d7-964d-8f1946d5b760",
   "metadata": {},
   "outputs": [],
   "source": [
    "import cv2\n",
    "import numpy as np\n",
    "import os\n",
    "import logging\n",
    "from pathlib import Path"
   ]
  },
  {
   "cell_type": "code",
   "execution_count": null,
   "id": "f915123c-ff09-4da5-a9b8-ff98d139bf64",
   "metadata": {},
   "outputs": [],
   "source": [
    "# Setup logging\n",
    "logging.basicConfig(level=logging.INFO, format='%(levelname)s: %(message)s')\n",
    "\n",
    "# Directories\n",
    "input_dir = Path(\"./satellite_imagery\")\n",
    "output_dir = Path(\"./satellite_imagery_cropped\")\n",
    "output_dir.mkdir(parents=True, exist_ok=True)"
   ]
  },
  {
   "cell_type": "code",
   "execution_count": null,
   "id": "ed8bcb2c-eaee-439a-82d0-8444ffd4a565",
   "metadata": {},
   "outputs": [],
   "source": [
    "# Constants\n",
    "PADDING = 5\n",
    "lower_blue = np.array([0,  25, 235])\n",
    "upper_blue = np.array([0,  45, 255])"
   ]
  },
  {
   "cell_type": "code",
   "execution_count": null,
   "id": "bfe247dd-d5fb-45ed-90c9-27d2822fbebd",
   "metadata": {},
   "outputs": [],
   "source": [
    "def process_image_pair(base_path: Path, boxed_path: Path):\n",
    "    logging.debug(f\"Processing pair:\\n  Base: {base_path.name}\\n  Boxed: {boxed_path.name}\")\n",
    "\n",
    "    # Load images\n",
    "    base_img = cv2.imread(str(base_path), 1)\n",
    "    boxed_img = cv2.imread(str(boxed_path), 1)\n",
    "\n",
    "    # Channel conversion (RGB --> BGR)\n",
    "    base_img = cv2.cvtColor(base_img, cv2.COLOR_BGR2RGB)\n",
    "    boxed_img = cv2.cvtColor(boxed_img, cv2.COLOR_BGR2RGB)\n",
    "\n",
    "    if base_img is None or boxed_img is None:\n",
    "        logging.warning(f\"Could not load image pair: {base_path.name}\")\n",
    "        return\n",
    "      \n",
    "    # Create mask where boxed image is exactly blue\n",
    "    mask = cv2.inRange(boxed_img, lower_blue, upper_blue)\n",
    "\n",
    "    # Get contours of the shape\n",
    "    contours, _ = cv2.findContours(mask, cv2.RETR_EXTERNAL, cv2.CHAIN_APPROX_SIMPLE)\n",
    "    if not contours:\n",
    "        logging.warning(f\"No blue shape found in {boxed_path.name}\")\n",
    "        return\n",
    "\n",
    "    contour = max(contours, key=cv2.contourArea)\n",
    "\n",
    "    # Create a filled mask from the contour\n",
    "    mask_filled = np.zeros_like(mask)\n",
    "    cv2.drawContours(mask_filled, [contour], -1, 255, thickness=cv2.FILLED)\n",
    "\n",
    "    # Create white background image\n",
    "    white_background = np.ones_like(base_img, dtype=np.uint8) * 255\n",
    "\n",
    "    # Copy pixels from base image where mask is non-zero\n",
    "    result_img = np.where(mask_filled[:, :, np.newaxis] == 255, base_img, white_background)\n",
    "\n",
    "    # Crop to bounding box of the mask, with padding\n",
    "    x, y, w, h = cv2.boundingRect(contour)\n",
    "    x1 = max(x - PADDING, 0)\n",
    "    y1 = max(y - PADDING, 0)\n",
    "    x2 = min(x + w + PADDING, base_img.shape[1])\n",
    "    y2 = min(y + h + PADDING, base_img.shape[0])\n",
    "\n",
    "    result_cropped = result_img[y1:y2, x1:x2]\n",
    "\n",
    "    # Save output\n",
    "    output_name = base_path.name.replace('_base.png', '_cropped.png')\n",
    "    output_path = output_dir / output_name\n",
    "    cropped = cv2.cvtColor(result_cropped, cv2.COLOR_BGR2RGB)\n",
    "    cv2.imwrite(str(output_path), cropped)\n",
    "    \n",
    "    logging.info(f\"Cropped image saved: {output_path.name}\")"
   ]
  },
  {
   "cell_type": "code",
   "execution_count": null,
   "id": "b773e156-afe2-4571-865c-b08745626dae",
   "metadata": {},
   "outputs": [],
   "source": [
    "def main():\n",
    "    logging.info(\"Starting batch crop process...\")\n",
    "\n",
    "    boxed_files = sorted(input_dir.glob(\"*_boxed.png\"))\n",
    "\n",
    "    for boxed_path in boxed_files:\n",
    "        base_path = Path(str(boxed_path).replace('_boxed.png', '_base.png'))\n",
    "        if not base_path.exists():\n",
    "            logging.warning(f\"Base image not found for: {boxed_path.name}\")\n",
    "            continue\n",
    "\n",
    "        try:\n",
    "            process_image_pair(base_path, boxed_path)\n",
    "        except Exception as e:\n",
    "            logging.error(f\"Error processing {boxed_path.name}: {e}\")\n",
    "\n",
    "    logging.info(\"Processing complete.\")\n"
   ]
  },
  {
   "cell_type": "code",
   "execution_count": null,
   "id": "26a5aa79-b1c1-4034-9921-8cbfae05221e",
   "metadata": {},
   "outputs": [],
   "source": [
    "if __name__ == \"__main__\":\n",
    "    main()"
   ]
  }
 ],
 "metadata": {
  "kernelspec": {
   "display_name": "Python 3 (ipykernel)",
   "language": "python",
   "name": "python3"
  },
  "language_info": {
   "codemirror_mode": {
    "name": "ipython",
    "version": 3
   },
   "file_extension": ".py",
   "mimetype": "text/x-python",
   "name": "python",
   "nbconvert_exporter": "python",
   "pygments_lexer": "ipython3",
   "version": "3.13.2"
  }
 },
 "nbformat": 4,
 "nbformat_minor": 5
}
