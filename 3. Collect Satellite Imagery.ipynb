{
 "cells": [
  {
   "cell_type": "code",
   "execution_count": null,
   "id": "b22ae8f8-b51a-447e-ae08-91c8866224d0",
   "metadata": {},
   "outputs": [],
   "source": [
    "import time\n",
    "import os\n",
    "import pandas as pd\n",
    "from selenium import webdriver\n",
    "from selenium.webdriver.common.by import By\n",
    "from selenium.webdriver.chrome.options import Options\n",
    "from selenium.webdriver.support.ui import WebDriverWait\n",
    "from selenium.webdriver.support import expected_conditions as EC\n",
    "from selenium.webdriver.common.keys import Keys\n",
    "from selenium.webdriver.common.action_chains import ActionChains\n",
    "from selenium.webdriver.common.keys import Keys"
   ]
  },
  {
   "cell_type": "code",
   "execution_count": null,
   "id": "ff86decc-f9ac-4996-9af4-6b835c518a4e",
   "metadata": {},
   "outputs": [],
   "source": [
    "INPUT_CSV = 'scraped_addresses/geocoded_results.csv'\n",
    "OUTPUT_CSV = 'scraped_addresses/sa_addresses_enriched.csv'\n",
    "SCREENSHOT_DIR = 'satellite_imagery'\n",
    "URL = 'https://location.sa.gov.au/viewer/#'\n",
    "\n",
    "os.makedirs(SCREENSHOT_DIR, exist_ok=True)"
   ]
  },
  {
   "cell_type": "code",
   "execution_count": null,
   "id": "66904dfe-e313-479e-a8c5-c23a1f7a3d92",
   "metadata": {},
   "outputs": [],
   "source": [
    "def setup_driver():\n",
    "    chrome_options = Options()\n",
    "    # Uncomment below for headless\n",
    "    # chrome_options.add_argument('--headless=new')\n",
    "    chrome_options.add_argument('--start-maximized')\n",
    "    driver = webdriver.Chrome(options=chrome_options)\n",
    "    return driver"
   ]
  },
  {
   "cell_type": "code",
   "execution_count": null,
   "id": "415065e2-90bd-4a93-b09e-2e7f048bc020",
   "metadata": {},
   "outputs": [],
   "source": [
    "def wait_and_click(driver, selector, delay=10):\n",
    "    el = WebDriverWait(driver, delay).until(EC.element_to_be_clickable((By.CSS_SELECTOR, selector)))\n",
    "    el.click()\n",
    "    time.sleep(.75)"
   ]
  },
  {
   "cell_type": "code",
   "execution_count": null,
   "id": "a3936f49-d87c-4529-9bc8-42bf62b30d52",
   "metadata": {},
   "outputs": [],
   "source": [
    "def wait_and_click_xpath(driver, selector, delay=10):\n",
    "    el = WebDriverWait(driver, 10).until(EC.element_to_be_clickable((By.XPATH, selector)))\n",
    "    el.click()\n",
    "    time.sleep(.75)"
   ]
  },
  {
   "cell_type": "code",
   "execution_count": null,
   "id": "1b29554a-9a95-4a55-ab0e-307f44e8a637",
   "metadata": {},
   "outputs": [],
   "source": [
    "def press_enter(element):\n",
    "    element.send_keys(Keys.RETURN)\n",
    "    time.sleep(.75)"
   ]
  },
  {
   "cell_type": "code",
   "execution_count": null,
   "id": "8df0a9d5-560c-4a9c-839a-ab24db238d4c",
   "metadata": {},
   "outputs": [],
   "source": [
    "def press_enter_global(driver):\n",
    "    actions = ActionChains(driver)\n",
    "    actions.send_keys(Keys.RETURN).perform()  # or Keys.ENTER\n",
    "    time.sleep(.75)"
   ]
  },
  {
   "cell_type": "code",
   "execution_count": null,
   "id": "1a42d0e5-9216-4a3b-b195-fd1b3c24cea6",
   "metadata": {},
   "outputs": [],
   "source": [
    "def wait_and_type(driver, selector, text, delay=10):\n",
    "    el = WebDriverWait(driver, delay).until(EC.presence_of_element_located((By.CSS_SELECTOR, selector)))\n",
    "    el.clear()\n",
    "    el.send_keys(text)\n",
    "    time.sleep(.75)"
   ]
  },
  {
   "cell_type": "code",
   "execution_count": null,
   "id": "270fea3f-a19c-4fea-a669-af9e10736f68",
   "metadata": {},
   "outputs": [],
   "source": [
    "def try_extract_element(driver, selector, delay=10):\n",
    "    try:\n",
    "        return WebDriverWait(driver, delay).until(EC.presence_of_element_located((By.CSS_SELECTOR, selector)))\n",
    "    except:\n",
    "        return None"
   ]
  },
  {
   "cell_type": "code",
   "execution_count": null,
   "id": "81aa6620-f87f-4599-98ce-6f99e35be28a",
   "metadata": {},
   "outputs": [],
   "source": [
    "def click_in_centre(driver):\n",
    "    body = driver.find_element(By.TAG_NAME, \"body\")\n",
    "    actions = ActionChains(driver)\n",
    "    actions.move_to_element_with_offset(body, body.size['width']//2, body.size['height']//2).click().perform()"
   ]
  },
  {
   "cell_type": "code",
   "execution_count": null,
   "id": "1d570576-fdb6-414f-a625-659fa638aff1",
   "metadata": {},
   "outputs": [],
   "source": [
    "def set_parcel_blue(driver):\n",
    "    driver.execute_script(\"\"\"\n",
    "    var path = document.querySelector('svg #map_graphics_layer > g > path');\n",
    "    if (path) {\n",
    "        path.setAttribute('fill', 'rgb(0, 0, 255)');\n",
    "        path.setAttribute('stroke', 'rgb(0, 0, 255)');\n",
    "        path.setAttribute('fill-opacity', '1');\n",
    "        path.setAttribute('stroke-width', '8');\n",
    "    }\n",
    "    \"\"\")\n",
    "    time.sleep(0.75)"
   ]
  },
  {
   "cell_type": "code",
   "execution_count": null,
   "id": "5f65355b-8f5c-4e59-9927-2db95b76ccf4",
   "metadata": {},
   "outputs": [],
   "source": [
    "def cleanup_ui_1(driver):\n",
    "    try:\n",
    "        driver.execute_script(\"\"\"\n",
    "            document.querySelector('#map_root > div.esriPopup.esriPopupVisible > div.esriPopupWrapper')?.style.setProperty('display', 'none');\n",
    "            document.querySelector('#map_root > div.esriPopup.esriPopupVisible > div.outerPointer.left')?.style.setProperty('display', 'none');\n",
    "            document.querySelector('#map_graphics_layer > image')?.style.setProperty('display', 'none');\n",
    "        \"\"\")\n",
    "    except Exception:\n",
    "        pass"
   ]
  },
  {
   "cell_type": "code",
   "execution_count": null,
   "id": "e3edab0d-b073-415d-bb74-68f0ce2b4697",
   "metadata": {},
   "outputs": [],
   "source": [
    "def cleanup_ui_2(driver):\n",
    "    try:\n",
    "        driver.execute_script(\"\"\"\n",
    "\n",
    "        #map_graphics_layer > image\n",
    "\n",
    "#map_graphics_layer > g > path\n",
    "        \n",
    "            document.querySelector('#map_root > div.esriPopup.esriPopupVisible > div.esriPopupWrapper')?.style.setProperty('display', 'none');\n",
    "            document.querySelector('#map_root > div.esriPopup.esriPopupVisible > div.outerPointer.left')?.style.setProperty('display', 'none');\n",
    "        \"\"\")\n",
    "    except Exception:\n",
    "        pass"
   ]
  },
  {
   "cell_type": "code",
   "execution_count": null,
   "id": "e57353fa-bea1-4a48-be6c-a3de9096515c",
   "metadata": {},
   "outputs": [],
   "source": [
    "def show_pointer(driver):\n",
    "    try:\n",
    "        driver.execute_script(\"\"\"\n",
    "            document.querySelector('#map_graphics_layer > image')?.style.setProperty('display', 'block');\n",
    "        \"\"\")\n",
    "    except Exception:\n",
    "        pass"
   ]
  },
  {
   "cell_type": "code",
   "execution_count": null,
   "id": "d00082f7-66d8-4def-abe3-db94f72675b5",
   "metadata": {},
   "outputs": [],
   "source": [
    "def process_address(driver, row, i):\n",
    "    full_address = row['candidate_address']\n",
    "    result = {\n",
    "        'parcel plan id': None,\n",
    "        'error': None\n",
    "    }\n",
    "\n",
    "    try:\n",
    "        base_file_name = str(i) + '_' + full_address.replace(' ', '_').replace(',','')\n",
    "        driver.get(URL)\n",
    "        time.sleep(5)\n",
    "        wait_and_click(driver, '#messagingDiv > div > button') # Close button\n",
    "        print(\"completed Close button\")\n",
    "        wait_and_click(driver, '#macSplash > div > div > button')  # Start\n",
    "        print(\"completed start\")\n",
    "\n",
    "        # Search Address\n",
    "        wait_and_type(driver, '#locatorInput', full_address)\n",
    "        time.sleep(1)\n",
    "        press_enter_global(driver) # click enter/return\n",
    "        print(\"enter button pressed\")\n",
    "        time.sleep(2)\n",
    "        \n",
    "        # Zoom in\n",
    "        zoom_selector = '//*[@id=\"menuDiv\"]/label[9]/div/div[1]'\n",
    "        for _ in range(4):\n",
    "            wait_and_click_xpath(driver, zoom_selector) # Close the data search\n",
    "            time.sleep(0.5)\n",
    "        print(\"map zoomed in\")\n",
    "        time.sleep(4)\n",
    "        print(\"3-second pause to ensure image has loaded\")\n",
    "\n",
    "        # take first screenshot (clean image)\n",
    "        cleanup_ui_1(driver)\n",
    "        screenshot_path = os.path.join(SCREENSHOT_DIR, (base_file_name + '_base.png'))\n",
    "        driver.find_element(By.ID, 'map_gc').screenshot(screenshot_path)\n",
    "\n",
    "        # Enable Data Layer\n",
    "        wait_and_click_xpath(driver, '//*[@id=\"menuDiv\"]/label[2]') # Data Search\n",
    "        print(\"completed Data Search\")\n",
    "        wait_and_type(driver, '#dataSearchInput', 'Parcel Cadastre') # Type 'Parcel Cadastre'\n",
    "        print(\"Typed 'Parcel Cadastre'\")\n",
    "        press_enter_global(driver) #press return\n",
    "        print(\"pressed enter (global)\")\n",
    "        wait_and_click_xpath(driver, '//*[@id=\"dataSearchResultsDiv\"]/input') # Click check-box to add data layer\n",
    "        print(\"completed checking check box\")\n",
    "        wait_and_click_xpath(driver, '//*[@id=\"dataSearchMenuDiv\"]/h5/span') # Close the data search\n",
    "        print(\"completed closing data search\")\n",
    "\n",
    "        # get green dot back\n",
    "        show_pointer(driver)\n",
    "        print(\"show green pointer\")\n",
    "\n",
    "        #click on pointer\n",
    "        wait_and_click_xpath(driver, '//*[@id=\"map_graphics_layer\"]')\n",
    "        print(\"click on pointer\")\n",
    "       \n",
    "        # click on 'what's here?'\n",
    "        wait_and_click_xpath(driver, '//*[@id=\"moreGraphic\"]')\n",
    "        print(\"click on what's here\")\n",
    "\n",
    "        time.sleep(1)\n",
    "        \n",
    "        # Make the parcel blue\n",
    "        set_parcel_blue(driver)\n",
    "        print(\"set parcel blue\")\n",
    "\n",
    "        # Take second screenshot (blue box)\n",
    "        time.sleep(1)\n",
    "        cleanup_ui_1(driver)\n",
    "        screenshot_path = os.path.join(SCREENSHOT_DIR, (base_file_name + '_boxed.png'))\n",
    "        driver.find_element(By.ID, 'map_gc').screenshot(screenshot_path)\n",
    "\n",
    "    except Exception as e:\n",
    "        result['error'] = str(e)\n",
    "\n",
    "    return result"
   ]
  },
  {
   "cell_type": "code",
   "execution_count": null,
   "id": "eac3820b-cde0-407a-a0b1-2d9795c31544",
   "metadata": {},
   "outputs": [],
   "source": [
    "def main():\n",
    "    df = pd.read_csv(INPUT_CSV)\n",
    "    df['parcel plan id'] = \"\"\n",
    "    df['error'] = \"\"\n",
    "    \n",
    "    for i, row in df.iterrows():\n",
    "        print(f\"[{i+1}/{len(df)}] Processing: {row['candidate_address']}\")\n",
    "        driver = setup_driver()\n",
    "        result = process_address(driver, row, i)\n",
    "\n",
    "        # Retry once on failure\n",
    "        if result['error']:\n",
    "            print(f\" - Error: {result['error']}. Retrying...\")\n",
    "            result = process_address(driver, row, i)\n",
    "\n",
    "        df.at[i, 'error'] = result['error']\n",
    "        print(\" - Done.\")\n",
    "\n",
    "        driver.quit()\n",
    "\n",
    "    print(f\"Completed. Results saved to {OUTPUT_CSV}\")"
   ]
  },
  {
   "cell_type": "code",
   "execution_count": null,
   "id": "ef06af84-8bcb-4119-ae2e-2cd86e9df7f6",
   "metadata": {},
   "outputs": [],
   "source": [
    "if __name__ == '__main__':\n",
    "    main()"
   ]
  },
  {
   "cell_type": "code",
   "execution_count": null,
   "id": "c55f129b-1693-4fd5-bfb7-7429e0bc9b06",
   "metadata": {},
   "outputs": [],
   "source": []
  },
  {
   "cell_type": "code",
   "execution_count": null,
   "id": "37fb5ce5-2d0b-4981-95ef-06cf739fd1ed",
   "metadata": {},
   "outputs": [],
   "source": []
  },
  {
   "cell_type": "code",
   "execution_count": null,
   "id": "5844701a-c042-4500-96fc-bfd1cacfa71e",
   "metadata": {},
   "outputs": [],
   "source": []
  }
 ],
 "metadata": {
  "kernelspec": {
   "display_name": "Python 3 (ipykernel)",
   "language": "python",
   "name": "python3"
  },
  "language_info": {
   "codemirror_mode": {
    "name": "ipython",
    "version": 3
   },
   "file_extension": ".py",
   "mimetype": "text/x-python",
   "name": "python",
   "nbconvert_exporter": "python",
   "pygments_lexer": "ipython3",
   "version": "3.13.2"
  }
 },
 "nbformat": 4,
 "nbformat_minor": 5
}
