{
 "cells": [
  {
   "cell_type": "code",
   "execution_count": null,
   "id": "8eb6f9eb-82b3-43b5-a02d-b950f55be4fd",
   "metadata": {},
   "outputs": [],
   "source": [
    "import requests\n",
    "import time\n",
    "import random\n",
    "import csv\n",
    "import logging\n",
    "from pathlib import Path"
   ]
  },
  {
   "cell_type": "code",
   "execution_count": null,
   "id": "7ba48f07-72a3-4d79-8f4a-b814864f634c",
   "metadata": {},
   "outputs": [],
   "source": [
    "# --- Configuration ---\n",
    "BASE_URL = \"https://services.geohub.sa.gov.au/sappa/Filter/ParcelAddress\"\n",
    "STATE = \"SA\"  # State is constant for all addresses\n",
    "OUTPUT_DIR = Path(\"scraped_addresses\")\n",
    "FULL_RESULTS_FILE = OUTPUT_DIR / \"sa_addresses_full.csv\"\n",
    "PARTIAL_RESULTS_FILE = OUTPUT_DIR / \"sa_addresses_partial.csv\""
   ]
  },
  {
   "cell_type": "code",
   "execution_count": null,
   "id": "0702c9f1-6e87-4803-984a-647263540fbc",
   "metadata": {},
   "outputs": [],
   "source": [
    "SUBURBS = [\"Aberfoyle Park\"]"
   ]
  },
  {
   "cell_type": "code",
   "execution_count": null,
   "id": "fcd6326b-a4f4-4181-a17c-c6eda06d41ae",
   "metadata": {},
   "outputs": [],
   "source": [
    "# Configure logging\n",
    "logging.basicConfig(level=logging.INFO, format='%(asctime)s - %(levelname)s - %(message)s')\n",
    "\n",
    "# Ensure output directory exists\n",
    "OUTPUT_DIR.mkdir(parents=True, exist_ok=True)"
   ]
  },
  {
   "cell_type": "code",
   "execution_count": null,
   "id": "4bc2c577-fe05-4152-ab8b-9383e029f187",
   "metadata": {},
   "outputs": [],
   "source": [
    "def make_request_with_retry(url, params=None, max_retries=5, backoff_factor=2):\n",
    "    \"\"\"\n",
    "    Makes an HTTP GET request with retries and a random delay.\n",
    "    \"\"\"\n",
    "    for attempt in range(max_retries):\n",
    "        try:\n",
    "            delay = random.uniform(1, 1.5)  # Random delay between 1 and 1.5 seconds\n",
    "            logging.info(f\"Waiting for {delay:.2f} seconds before requesting: {url} with params {params}\")\n",
    "            time.sleep(delay)\n",
    "\n",
    "            response = requests.get(url, params=params, timeout=10)\n",
    "            response.raise_for_status()  # Raise an HTTPError for bad responses (4xx or 5xx)\n",
    "            return response.json()\n",
    "        except requests.exceptions.Timeout:\n",
    "            logging.warning(f\"Timeout occurred for {url}. Attempt {attempt + 1}/{max_retries}. Retrying...\")\n",
    "        except requests.exceptions.ConnectionError:\n",
    "            logging.warning(f\"Connection error occurred for {url}. Attempt {attempt + 1}/{max_retries}. Retrying...\")\n",
    "        except requests.exceptions.HTTPError as e:\n",
    "            logging.error(f\"HTTP error occurred for {url}: {e}. Attempt {attempt + 1}/{max_retries}. Retrying...\")\n",
    "        except requests.exceptions.RequestException as e:\n",
    "            logging.error(f\"An unexpected request error occurred for {url}: {e}. Attempt {attempt + 1}/{max_retries}. Retrying...\")\n",
    "        except ValueError as e:\n",
    "            logging.error(f\"Failed to parse JSON response from {url}: {e}. Attempt {attempt + 1}/{max_retries}. Retrying...\")\n",
    "\n",
    "        # Exponential backoff with randomness for retries\n",
    "        sleep_time = backoff_factor ** attempt + random.uniform(0.5, 1.5)\n",
    "        logging.info(f\"Retrying in {sleep_time:.2f} seconds...\")\n",
    "        time.sleep(sleep_time)\n",
    "\n",
    "    logging.error(f\"Failed to fetch data from {url} after {max_retries} attempts.\")\n",
    "    return None\n"
   ]
  },
  {
   "cell_type": "code",
   "execution_count": null,
   "id": "3c81a157-9894-4080-b45a-4158f7e7ed3d",
   "metadata": {},
   "outputs": [],
   "source": [
    "def save_to_csv(data, filename, mode='w', write_header=True):\n",
    "    \"\"\"\n",
    "    Saves a list of dictionaries to a CSV file.\n",
    "    \"\"\"\n",
    "    if not data:\n",
    "        logging.warning(f\"No data to save to {filename}\")\n",
    "        return\n",
    "\n",
    "    fieldnames = [\"street number\", \"street name\", \"suburb\", \"state\", \"full address\"]\n",
    "    try:\n",
    "        with open(filename, mode, newline='', encoding='utf-8') as csvfile:\n",
    "            writer = csv.DictWriter(csvfile, fieldnames=fieldnames)\n",
    "            if write_header and mode == 'w':\n",
    "                writer.writeheader()\n",
    "            writer.writerows(data)\n",
    "        logging.info(f\"Successfully saved data to {filename}\")\n",
    "    except IOError as e:\n",
    "        logging.error(f\"Error saving data to {filename}: {e}\")\n"
   ]
  },
  {
   "cell_type": "code",
   "execution_count": null,
   "id": "0c26872a-763e-4edc-a370-8e41375e6235",
   "metadata": {},
   "outputs": [],
   "source": [
    "def main():\n",
    "    all_addresses = []\n",
    "\n",
    "    for suburb in SUBURBS:\n",
    "        logging.info(f\"--- Processing suburb: {suburb} ---\")\n",
    "\n",
    "        # Part 2: Determine the Street Names within a given suburb\n",
    "        street_names_url = f\"{BASE_URL}?&field=streetName&suburb={suburb}\"\n",
    "        street_data = make_request_with_retry(street_names_url)\n",
    "\n",
    "        if not street_data or 'items' not in street_data:\n",
    "            logging.warning(f\"Could not retrieve street names for {suburb}. Skipping.\")\n",
    "            continue\n",
    "\n",
    "        street_names = [item['name'] for item in street_data['items']]\n",
    "        logging.info(f\"Found {len(street_names)} streets in {suburb}.\")\n",
    "\n",
    "        for street_name in street_names:\n",
    "            # Part 3: Get the valid street numbers for a given street\n",
    "            street_numbers_url = f\"{BASE_URL}?&field=houseNo&suburb={suburb}&streetName={street_name}\"\n",
    "            number_data = make_request_with_retry(street_numbers_url)\n",
    "\n",
    "            if not number_data or 'items' not in number_data:\n",
    "                logging.warning(f\"Could not retrieve street numbers for {street_name}, {suburb}. Skipping.\")\n",
    "                continue\n",
    "\n",
    "            street_numbers = [item['name'] for item in number_data['items']]\n",
    "            logging.info(f\"Found {len(street_numbers)} numbers for {street_name}, {suburb}.\")\n",
    "\n",
    "            for house_no in street_numbers:\n",
    "                full_address = f\"{house_no} {street_name}, {suburb}, {STATE}\"\n",
    "                address_entry = {\n",
    "                    \"street number\": house_no,\n",
    "                    \"street name\": street_name,\n",
    "                    \"suburb\": suburb,\n",
    "                    \"state\": STATE,\n",
    "                    \"full address\": full_address\n",
    "                }\n",
    "                all_addresses.append(address_entry)\n",
    "            \n",
    "            # Save partial results after each street for resilience\n",
    "            save_to_csv(all_addresses, PARTIAL_RESULTS_FILE, mode='w') # Overwrite with current progress\n",
    "\n",
    "    # Save full results at the end\n",
    "    save_to_csv(all_addresses, FULL_RESULTS_FILE, mode='w')\n",
    "    logging.info(\"Scraping complete. All addresses saved.\")"
   ]
  },
  {
   "cell_type": "code",
   "execution_count": null,
   "id": "1577d06a-f91f-48db-a288-32be92aa271f",
   "metadata": {},
   "outputs": [],
   "source": [
    "if __name__ == \"__main__\":\n",
    "    main()"
   ]
  },
  {
   "cell_type": "code",
   "execution_count": null,
   "id": "6861b13e-9d37-4211-88ff-c35ec13a535c",
   "metadata": {},
   "outputs": [],
   "source": []
  }
 ],
 "metadata": {
  "kernelspec": {
   "display_name": "Python 3 (ipykernel)",
   "language": "python",
   "name": "python3"
  },
  "language_info": {
   "codemirror_mode": {
    "name": "ipython",
    "version": 3
   },
   "file_extension": ".py",
   "mimetype": "text/x-python",
   "name": "python",
   "nbconvert_exporter": "python",
   "pygments_lexer": "ipython3",
   "version": "3.13.2"
  }
 },
 "nbformat": 4,
 "nbformat_minor": 5
}
