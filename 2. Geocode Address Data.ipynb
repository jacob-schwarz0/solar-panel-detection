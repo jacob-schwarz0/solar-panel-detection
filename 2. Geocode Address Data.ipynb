{
 "cells": [
  {
   "cell_type": "code",
   "execution_count": null,
   "id": "3764967e-d2b7-4798-8787-8f1a1fadb337",
   "metadata": {},
   "outputs": [],
   "source": [
    "import csv\n",
    "import requests\n",
    "import time\n",
    "import os\n",
    "from urllib.parse import quote"
   ]
  },
  {
   "cell_type": "code",
   "execution_count": null,
   "id": "1c7d255a-62ff-49c0-be8a-8b7bc0105058",
   "metadata": {},
   "outputs": [],
   "source": [
    "INPUT_CSV = \"scraped_addresses/sa_addresses_full.csv\"\n",
    "OUTPUT_CSV = \"scraped_addresses/geocoded_results.csv\"\n",
    "\n",
    "API_URL_BASE = \"https://lsa1.geohub.sa.gov.au/server/rest/services/Locators/SAGAF_Valuation/GeocodeServer/findAddressCandidates\"\n",
    "SEARCH_EXTENT = '{\"xmin\":128.9,\"ymin\":-39.5,\"xmax\":141.0005,\"ymax\":-25.9}'\n",
    "\n",
    "# Fieldnames used in the output CSV\n",
    "OUTPUT_FIELDS = [\n",
    "    \"input_address\", \"candidate_address\", \"score\",\n",
    "    \"x\", \"y\", \"HouseNumber\", \"StreetName\", \"StreetType\", \"UnitNumber\",\n",
    "    \"Locality\", \"State\", \"Postcode\", \"Valuation\", \"SystemValuation\",\n",
    "    \"Ref_ID\", \"Addr_type\"\n",
    "]"
   ]
  },
  {
   "cell_type": "code",
   "execution_count": null,
   "id": "977d2a97-6bf7-4c12-b21e-6238ff32307e",
   "metadata": {},
   "outputs": [],
   "source": [
    "# Create the output CSV file and write headers if it doesn't exist\n",
    "def create_output_csv_if_needed():\n",
    "    if not os.path.exists(OUTPUT_CSV):\n",
    "        with open(OUTPUT_CSV, mode=\"w\", newline=\"\", encoding=\"utf-8\") as f:\n",
    "            writer = csv.DictWriter(f, fieldnames=[\n",
    "                \"input_address\", \"candidate_address\", \"score\",\n",
    "                \"x\", \"y\", \"HouseNumber\", \"StreetName\", \"StreetType\", \"UnitNumber\",\n",
    "                \"Locality\", \"State\", \"Postcode\", \"Valuation\", \"SystemValuation\",\n",
    "                \"Ref_ID\", \"Addr_type\"\n",
    "            ])\n",
    "            writer.writeheader()"
   ]
  },
  {
   "cell_type": "code",
   "execution_count": null,
   "id": "974b938d-2296-4187-b39a-ddbef9b333f5",
   "metadata": {},
   "outputs": [],
   "source": [
    "# Load already seen records from the output CSV\n",
    "def load_seen_records():\n",
    "    seen = set()\n",
    "    if os.path.exists(OUTPUT_CSV):\n",
    "        with open(OUTPUT_CSV, mode=\"r\", newline=\"\", encoding=\"utf-8\") as f:\n",
    "            reader = csv.DictReader(f)\n",
    "            for row in reader:\n",
    "                seen.add((row[\"input_address\"], row[\"candidate_address\"]))\n",
    "    return seen"
   ]
  },
  {
   "cell_type": "code",
   "execution_count": null,
   "id": "6d441ec5-994a-483d-8881-ef7a9ea7af92",
   "metadata": {},
   "outputs": [],
   "source": [
    "# Append new candidate results to the output CSV if they are not duplicates\n",
    "def append_candidates_to_csv(input_address, candidates, seen_records):\n",
    "    with open(OUTPUT_CSV, mode=\"a\", newline=\"\", encoding=\"utf-8\") as f:\n",
    "        writer = csv.DictWriter(f, fieldnames=OUTPUT_FIELDS)\n",
    "        new_count = 0\n",
    "        for c in candidates:\n",
    "            attr = c[\"attributes\"]\n",
    "            candidate_address = attr.get(\"Match_addr\", \"\")\n",
    "            key = (input_address, candidate_address)\n",
    "            if key in seen_records:\n",
    "                continue  # Skip duplicates\n",
    "            writer.writerow({\n",
    "                \"input_address\": input_address,\n",
    "                \"candidate_address\": candidate_address,\n",
    "                \"score\": c.get(\"score\", \"\"),\n",
    "                \"x\": c[\"location\"].get(\"x\", \"\"),\n",
    "                \"y\": c[\"location\"].get(\"y\", \"\"),\n",
    "                \"HouseNumber\": attr.get(\"HouseNumber\", \"\"),\n",
    "                \"StreetName\": attr.get(\"StreetName\", \"\"),\n",
    "                \"StreetType\": attr.get(\"StreetType\", \"\"),\n",
    "                \"UnitNumber\": attr.get(\"UnitNumber\", \"\"),\n",
    "                \"Locality\": attr.get(\"Locality\", \"\"),\n",
    "                \"State\": attr.get(\"State\", \"\"),\n",
    "                \"Postcode\": attr.get(\"Postcode\", \"\"),\n",
    "                \"Valuation\": attr.get(\"Valuation\", \"\"),\n",
    "                \"SystemValuation\": attr.get(\"SystemValuation\", \"\"),\n",
    "                \"Ref_ID\": attr.get(\"Ref_ID\", \"\"),\n",
    "                \"Addr_type\": attr.get(\"Addr_type\", \"\")\n",
    "            })\n",
    "            seen_records.add(key)\n",
    "            new_count += 1\n",
    "        if new_count > 0:\n",
    "            print(f\"✓ Added {new_count} new candidates.\")\n",
    "        else:\n",
    "            print(\"– No new candidates to add (all duplicates).\")"
   ]
  },
  {
   "cell_type": "code",
   "execution_count": null,
   "id": "3d038204-dbbc-402c-88fc-e279cbcf8727",
   "metadata": {},
   "outputs": [],
   "source": [
    "# Query the SAGAF Valuation API\n",
    "def query_geocode_service(full_address):\n",
    "    params = {\n",
    "        \"Single Line Input\": full_address,\n",
    "        \"f\": \"json\",\n",
    "        \"maxLocations\": \"10\",\n",
    "        \"outfields\": \"*\",\n",
    "        \"matchOutOfRange\": \"true\",\n",
    "        \"searchExtent\": SEARCH_EXTENT\n",
    "    }\n",
    "\n",
    "    try:\n",
    "        response = requests.get(API_URL_BASE, params=params, timeout=10)\n",
    "        response.raise_for_status()\n",
    "        data = response.json()\n",
    "        return data.get(\"candidates\", [])\n",
    "    except Exception as e:\n",
    "        print(f\"Error querying address '{full_address}': {e}\")\n",
    "        return []"
   ]
  },
  {
   "cell_type": "code",
   "execution_count": null,
   "id": "b3843128-f989-41ac-9c5c-a7d97019183f",
   "metadata": {},
   "outputs": [],
   "source": [
    "# Main loop\n",
    "def main():\n",
    "    create_output_csv_if_needed()\n",
    "    seen_records = load_seen_records()\n",
    "\n",
    "    with open(INPUT_CSV, mode=\"r\", encoding=\"utf-8\") as csvfile:\n",
    "        reader = csv.DictReader(csvfile)\n",
    "        for row in reader:\n",
    "            full_address = row[\"full address\"]\n",
    "            print(f\"Processing: {full_address}\")\n",
    "            candidates = query_geocode_service(full_address)\n",
    "            append_candidates_to_csv(full_address, candidates, seen_records)\n",
    "            time.sleep(0.5)  # Avoid hammering the server"
   ]
  },
  {
   "cell_type": "code",
   "execution_count": null,
   "id": "b9d89c3d-76ed-448a-a525-26738aec1c10",
   "metadata": {},
   "outputs": [],
   "source": [
    "if __name__ == \"__main__\":\n",
    "    main()"
   ]
  }
 ],
 "metadata": {
  "kernelspec": {
   "display_name": "Python 3 (ipykernel)",
   "language": "python",
   "name": "python3"
  },
  "language_info": {
   "codemirror_mode": {
    "name": "ipython",
    "version": 3
   },
   "file_extension": ".py",
   "mimetype": "text/x-python",
   "name": "python",
   "nbconvert_exporter": "python",
   "pygments_lexer": "ipython3",
   "version": "3.13.2"
  }
 },
 "nbformat": 4,
 "nbformat_minor": 5
}
